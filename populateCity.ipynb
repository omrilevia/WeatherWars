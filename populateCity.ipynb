{
 "cells": [
  {
   "cell_type": "code",
   "execution_count": 3,
   "metadata": {},
   "outputs": [],
   "source": [
    "import requests\n",
    "import pandas as pd\n",
    "import json\n",
    "import pyodbc\n",
    "from datetime import date\n",
    "from datetime import datetime"
   ]
  },
  {
   "cell_type": "code",
   "execution_count": 4,
   "metadata": {},
   "outputs": [],
   "source": [
    "conn = pyodbc.connect('Driver={ODBC Driver 17 for SQL Server};'\n",
    "                      'Server=LAPTOP-RC2ANL8F\\SQLEXPRESS;'\n",
    "                      'Database=WeatherWars;'\n",
    "                      'Trusted_Connection=yes;')\n",
    "cursor = conn.cursor()"
   ]
  },
  {
   "cell_type": "code",
   "execution_count": 5,
   "metadata": {},
   "outputs": [],
   "source": [
    "cityCommands = [\"insert into WeatherWars.dbo.cities values ('Boston','Coastal', 'MA')\",\n",
    "                \"insert into WeatherWars.dbo.cities values ('Minneapolis', 'Land-Locked', 'MN')\",\n",
    "               \"insert into WeatherWars.dbo.cities values ('Detroit', 'Land-Locked', 'MI')\",\n",
    "               \"insert into WeatherWars.dbo.cities values ('Chicago', 'Land-Locked', 'IL')\",\n",
    "               \"insert into WeatherWars.dbo.cities values ('Seattle','Coastal', 'WA')\",\n",
    "               \"insert into WeatherWars.dbo.cities values ('Phoenix', 'Desert', 'AZ')\",\n",
    "               \"insert into WeatherWars.dbo.cities values ('Miami','Coastal','FL')\",\n",
    "               \"insert into WeatherWars.dbo.cities values ('Portland','Coastal','OR')\",\n",
    "               \"insert into WeatherWars.dbo.cities values ('Atlanta', 'Land-Locked', 'GA')\",\n",
    "               \"insert into WeatherWars.dbo.cities values ('Honolulu', 'Coastal', 'HI')\",\n",
    "               \"insert into WeatherWars.dbo.cities values ('Juneau', 'Coastal', 'AL')\",\n",
    "               \"insert into WeatherWars.dbo.cities values ('Houston', 'Land-Locked', 'TX')\",\n",
    "               \"insert into WeatherWars.dbo.cities values ('Helena', 'Land-Locked', 'MT')\",\n",
    "               \"insert into WeatherWars.dbo.cities values ('Pittsburgh', 'Land-Locked', 'PA')\",\n",
    "               \"insert into WeatherWars.dbo.cities values ('Denver', 'Land-Locked', 'CO')\",\n",
    "               \"insert into WeatherWars.dbo.cities values ('Boulder', 'Land-Locked', 'CO')\",\n",
    "               \"insert into WeatherWars.dbo.cities values ('Sacramento', 'Land-Locked', 'CA')\"\n",
    "               \"insert into WeatherWars.dbo.cities values ('San Jose', 'Coastal', 'CA')\",\n",
    "               \"insert into WeatherWars.dbo.cities values ('San Francisco', 'Coastal', 'CA')\",\n",
    "               \"insert into WeatherWars.dbo.cities values ('New York', 'Coastal', 'NY')\",\n",
    "               \"insert into WeatherWars.dbo.cities values ('Los Angeles', 'Coastal', 'CA')\",\n",
    "               \"insert into WeatherWars.dbo.cities values ('Las Vegas', 'Desert', 'NV')\"]"
   ]
  },
  {
   "cell_type": "code",
   "execution_count": 6,
   "metadata": {},
   "outputs": [],
   "source": [
    "for line in cityCommands:\n",
    "    cursor.execute(line)\n"
   ]
  },
  {
   "cell_type": "code",
   "execution_count": 7,
   "metadata": {},
   "outputs": [],
   "source": [
    "conn.commit()"
   ]
  },
  {
   "cell_type": "code",
   "execution_count": 8,
   "metadata": {},
   "outputs": [
    {
     "name": "stdout",
     "output_type": "stream",
     "text": [
      "('Atlanta', 'Land-Locked', 'GA')\n",
      "('Boston', 'Coastal', 'MA')\n",
      "('Boulder', 'Land-Locked', 'CO')\n",
      "('Chicago', 'Land-Locked', 'IL')\n",
      "('Denver', 'Land-Locked', 'CO')\n",
      "('Detroit', 'Land-Locked', 'MI')\n",
      "('Helena', 'Land-Locked', 'MT')\n",
      "('Honolulu', 'Coastal', 'HI')\n",
      "('Houston', 'Land-Locked', 'TX')\n",
      "('Juneau', 'Coastal', 'AL')\n",
      "('Las Vegas', 'Desert', 'NV')\n",
      "('Los Angeles', 'Coastal', 'CA')\n",
      "('Miami', 'Coastal', 'FL')\n",
      "('Minneapolis', 'Land-Locked', 'MN')\n",
      "('New York', 'Coastal', 'NY')\n",
      "('Phoenix', 'Desert', 'AZ')\n",
      "('Pittsburgh', 'Land-Locked', 'PA')\n",
      "('Portland', 'Coastal', 'OR')\n",
      "('Sacramento', 'Land-Locked', 'CA')\n",
      "('San Francisco', 'Coastal', 'CA')\n",
      "('San Jose', 'Coastal', 'CA')\n",
      "('Seattle', 'Coastal', 'WA')\n"
     ]
    }
   ],
   "source": [
    "cursor.execute(\"select * from cities\")\n",
    "for row in cursor:\n",
    "    print(row)\n"
   ]
  },
  {
   "cell_type": "code",
   "execution_count": 2,
   "metadata": {},
   "outputs": [
    {
     "ename": "NameError",
     "evalue": "name 'conn' is not defined",
     "output_type": "error",
     "traceback": [
      "\u001b[1;31m---------------------------------------------------------------------------\u001b[0m",
      "\u001b[1;31mNameError\u001b[0m                                 Traceback (most recent call last)",
      "\u001b[1;32m<ipython-input-2-8dd0cd799055>\u001b[0m in \u001b[0;36m<module>\u001b[1;34m\u001b[0m\n\u001b[1;32m----> 1\u001b[1;33m \u001b[0mconn\u001b[0m\u001b[1;33m.\u001b[0m\u001b[0mclose\u001b[0m\u001b[1;33m(\u001b[0m\u001b[1;33m)\u001b[0m\u001b[1;33m\u001b[0m\u001b[1;33m\u001b[0m\u001b[0m\n\u001b[0m",
      "\u001b[1;31mNameError\u001b[0m: name 'conn' is not defined"
     ]
    }
   ],
   "source": []
  },
  {
   "cell_type": "code",
   "execution_count": null,
   "metadata": {},
   "outputs": [],
   "source": []
  }
 ],
 "metadata": {
  "kernelspec": {
   "display_name": "Python 3",
   "language": "python",
   "name": "python3"
  },
  "language_info": {
   "codemirror_mode": {
    "name": "ipython",
    "version": 3
   },
   "file_extension": ".py",
   "mimetype": "text/x-python",
   "name": "python",
   "nbconvert_exporter": "python",
   "pygments_lexer": "ipython3",
   "version": "3.7.3"
  }
 },
 "nbformat": 4,
 "nbformat_minor": 2
}
