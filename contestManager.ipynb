{
 "cells": [
  {
   "cell_type": "code",
   "execution_count": 16,
   "metadata": {},
   "outputs": [
    {
     "name": "stdout",
     "output_type": "stream",
     "text": [
      "2019-11-06 17:36:47.944747\n"
     ]
    }
   ],
   "source": [
    "import requests\n",
    "import pandas as pd\n",
    "import json\n",
    "import pyodbc\n",
    "from datetime import date\n",
    "from datetime import datetime\n",
    "from time import sleep\n"
   ]
  },
  {
   "cell_type": "code",
   "execution_count": 17,
   "metadata": {},
   "outputs": [],
   "source": [
    "conn = pyodbc.connect('Driver={ODBC Driver 17 for SQL Server};'\n",
    "                      'Server=LAPTOP-RC2ANL8F\\SQLEXPRESS;'\n",
    "                      'Database=WeatherWars;'\n",
    "                      'Trusted_Connection=yes;')\n",
    "cursor = conn.cursor()"
   ]
  },
  {
   "cell_type": "code",
   "execution_count": 18,
   "metadata": {},
   "outputs": [],
   "source": [
    "def dailyContest(cursor, conn):\n",
    "    now = datetime.now()\n",
    "    cursor.execute(\"insert into contest values ('Heat','Daily','Extremes','classic',?,'Pending')\",(now))\n",
    "    cursor.execute(\"insert into contest values ('Heat','Daily','Predictions','classic',?,'Pending')\",(now))\n",
    "    cursor.execute(\"insert into contest values ('Cold','Daily','Extremes','classic',?,'Pending')\",(now))\n",
    "    cursor.execute(\"insert into contest values ('Cold','Daily','Predictions','classic',?,'Pending')\",(now))\n",
    "    cursor.execute(\"insert into contest values ('Wind','Daily','Extremes','classic',?,'Pending')\",(now))\n",
    "    cursor.execute(\"insert into contest values ('Wind','Daily','Predictions','classic',?,'Pending')\",(now))\n",
    "    cursor.execute(\"insert into contest values ('Rain','Daily','Extremes','classic',?,'Pending')\",(now))\n",
    "    cursor.execute(\"insert into contest values ('Rain','Daily','Extremes','classic',?,'Pending')\",(now))\n",
    "    \n",
    "    conn.commit()\n",
    "    "
   ]
  },
  {
   "cell_type": "code",
   "execution_count": 21,
   "metadata": {},
   "outputs": [],
   "source": [
    "def weeklyContest(cursor, conn):\n",
    "    now = datetime.now()\n",
    "    cursor.execute(\"insert into contest values ('Heat','Weekly','Extremes','classic',?,'Pending')\",(now))\n",
    "    cursor.execute(\"insert into contest values ('Heat','Weekly','Predictions','classic',?,'Pending')\",(now))\n",
    "    cursor.execute(\"insert into contest values ('Cold','Weekly','Extremes','classic',?,'Pending')\",(now))\n",
    "    cursor.execute(\"insert into contest values ('Cold','Weekly','Predictions','classic',?,'Pending')\",(now))\n",
    "    cursor.execute(\"insert into contest values ('Wind','Weekly','Extremes','classic',?,'Pending')\",(now))\n",
    "    cursor.execute(\"insert into contest values ('Wind','Weekly','Predictions','classic',?,'Pending')\",(now))\n",
    "    cursor.execute(\"insert into contest values ('Rain','Weekly','Extremes','classic',?,'Pending')\",(now))\n",
    "    cursor.execute(\"insert into contest values ('Rain','Weekly','Extremes','classic',?,'Pending')\",(now))\n",
    "    \n",
    "    conn.commit()"
   ]
  },
  {
   "cell_type": "code",
   "execution_count": 22,
   "metadata": {},
   "outputs": [],
   "source": [
    "def seasonalContest(cursor, conn):\n",
    "    now = datetime.now()\n",
    "    cursor.execute(\"insert into contest values ('Heat','Seasonal','Extremes','classic',?,'Pending')\",(now))\n",
    "    cursor.execute(\"insert into contest values ('Heat','Seasonal','Predictions','classic',?,'Pending')\",(now))\n",
    "    cursor.execute(\"insert into contest values ('Cold','Seasonal','Extremes','classic',?,'Pending')\",(now))\n",
    "    cursor.execute(\"insert into contest values ('Cold','Seasonal','Predictions','classic',?,'Pending')\",(now))\n",
    "    cursor.execute(\"insert into contest values ('Wind','Seasonal','Extremes','classic',?,'Pending')\",(now))\n",
    "    cursor.execute(\"insert into contest values ('Wind','Seasonal','Predictions','classic',?,'Pending')\",(now))\n",
    "    cursor.execute(\"insert into contest values ('Rain','Seasonal','Extremes','classic',?,'Pending')\",(now))\n",
    "    cursor.execute(\"insert into contest values ('Rain','Seasonal','Extremes','classic',?,'Pending')\",(now))\n",
    "    \n",
    "    conn.commit()"
   ]
  },
  {
   "cell_type": "code",
   "execution_count": 23,
   "metadata": {},
   "outputs": [],
   "source": [
    "while True:\n",
    "    now = datetime.now()\n",
    "    cursor.execute(\"select cId, Duration, timeCreated from contest where status = 'Pending'\")\n",
    "    values = cursor.fetchall()\n",
    "    for row in values:\n",
    "        delta = now - row[2]\n",
    "        if(row[1] == 'Daily' and delta.day > 0):\n",
    "            cursor.execute(\"update contest set status = 'Running' where cId = ?\", (row[0]))\n",
    "        if(row[1] == 'Weekly' and delta.day > 2):\n",
    "            cursor.execute(\"update contest set status = 'Running' where cId = ?\", (row[0]))\n",
    "        if(row[1] == 'Seasonal' and delta.day > 6):\n",
    "            cursor.execute(\"update contest set status = 'Running' where cId = ?\", (row[0]))\n",
    "    conn.commit()\n",
    "    \n",
    "    now = datetime.now()\n",
    "    cursor.execute(\"select cId, Duration, timeCreated from contest where status = 'Running'\")\n",
    "    values = cursor.fetchall()\n",
    "    for row in values:\n",
    "        delta = now - row[2]\n",
    "        if(row[1] == 'Daily' and delta.day > 1):\n",
    "            cursor.execute(\"update contest set status = 'Finished' where cId = ?\", (row[0]))\n",
    "            # create new daily here (?)\n",
    "        if(row[1] == 'Weekly' and delta.day > 9):\n",
    "            cursor.execute(\"update contest set status = 'Finished' where cId = ?\", (row[0]))\n",
    "            # create new weekly here (?)\n",
    "        if(row[1] == 'Seasonal' and delta.day > 96):\n",
    "            cursor.execute(\"update contest set status = 'Finished' where cId = ?\", (row[0])) \n",
    "            # create new seasonal here (?)\n",
    "    conn.commit()\n",
    "        \n",
    "        "
   ]
  },
  {
   "cell_type": "code",
   "execution_count": 54,
   "metadata": {},
   "outputs": [
    {
     "data": {
      "text/plain": [
       "<pyodbc.Cursor at 0x2027dcd7300>"
      ]
     },
     "execution_count": 54,
     "metadata": {},
     "output_type": "execute_result"
    }
   ],
   "source": [
    "cursor.execute(\"select cId, timeCreated from contest where status = 'Pending'\")"
   ]
  },
  {
   "cell_type": "code",
   "execution_count": 55,
   "metadata": {},
   "outputs": [],
   "source": [
    "values = cursor.fetchall()"
   ]
  },
  {
   "cell_type": "code",
   "execution_count": 56,
   "metadata": {},
   "outputs": [
    {
     "data": {
      "text/plain": [
       "[(5, datetime.datetime(1905, 6, 26, 0, 0)),\n",
       " (6, datetime.datetime(1905, 6, 26, 0, 0)),\n",
       " (7, datetime.datetime(1905, 6, 26, 0, 0)),\n",
       " (8, datetime.datetime(2019, 11, 6, 17, 31, 1, 463000)),\n",
       " (9, datetime.datetime(2019, 11, 6, 17, 31, 54, 197000)),\n",
       " (10, datetime.datetime(2019, 11, 6, 17, 37, 0, 340000)),\n",
       " (11, datetime.datetime(2019, 11, 6, 17, 37, 0, 340000)),\n",
       " (12, datetime.datetime(2019, 11, 6, 17, 37, 0, 340000)),\n",
       " (13, datetime.datetime(2019, 11, 6, 17, 37, 0, 340000)),\n",
       " (14, datetime.datetime(2019, 11, 6, 17, 37, 0, 340000)),\n",
       " (15, datetime.datetime(2019, 11, 6, 17, 37, 0, 340000)),\n",
       " (16, datetime.datetime(2019, 11, 6, 17, 37, 0, 340000)),\n",
       " (17, datetime.datetime(2019, 11, 6, 17, 37, 0, 340000)),\n",
       " (18, datetime.datetime(2019, 11, 6, 17, 37, 25, 427000)),\n",
       " (19, datetime.datetime(2019, 11, 6, 17, 37, 25, 427000)),\n",
       " (20, datetime.datetime(2019, 11, 6, 17, 37, 25, 427000)),\n",
       " (21, datetime.datetime(2019, 11, 6, 17, 37, 25, 427000)),\n",
       " (22, datetime.datetime(2019, 11, 6, 17, 37, 25, 427000)),\n",
       " (23, datetime.datetime(2019, 11, 6, 17, 37, 25, 427000)),\n",
       " (24, datetime.datetime(2019, 11, 6, 17, 37, 25, 427000)),\n",
       " (25, datetime.datetime(2019, 11, 6, 17, 37, 25, 427000))]"
      ]
     },
     "execution_count": 56,
     "metadata": {},
     "output_type": "execute_result"
    }
   ],
   "source": [
    "values"
   ]
  },
  {
   "cell_type": "code",
   "execution_count": 61,
   "metadata": {},
   "outputs": [],
   "source": [
    "test = now - values[5][1]"
   ]
  },
  {
   "cell_type": "code",
   "execution_count": 62,
   "metadata": {},
   "outputs": [
    {
     "data": {
      "text/plain": [
       "0"
      ]
     },
     "execution_count": 62,
     "metadata": {},
     "output_type": "execute_result"
    }
   ],
   "source": [
    "test.days"
   ]
  },
  {
   "cell_type": "code",
   "execution_count": null,
   "metadata": {},
   "outputs": [],
   "source": []
  }
 ],
 "metadata": {
  "kernelspec": {
   "display_name": "Python 3",
   "language": "python",
   "name": "python3"
  },
  "language_info": {
   "codemirror_mode": {
    "name": "ipython",
    "version": 3
   },
   "file_extension": ".py",
   "mimetype": "text/x-python",
   "name": "python",
   "nbconvert_exporter": "python",
   "pygments_lexer": "ipython3",
   "version": "3.7.3"
  }
 },
 "nbformat": 4,
 "nbformat_minor": 2
}
