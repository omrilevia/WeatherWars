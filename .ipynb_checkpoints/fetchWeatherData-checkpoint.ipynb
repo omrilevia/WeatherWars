{
 "cells": [
  {
   "cell_type": "code",
   "execution_count": 5,
   "metadata": {
    "scrolled": true
   },
   "outputs": [
    {
     "name": "stdout",
     "output_type": "stream",
     "text": [
      "2019-11-06 2019-11-06 16:28:19.271323\n"
     ]
    }
   ],
   "source": [
    "import requests\n",
    "import pandas as pd\n",
    "import json\n",
    "import pyodbc\n",
    "from datetime import date\n",
    "from datetime import datetime\n",
    "from time import sleep\n",
    "today = date.today()\n",
    "now = datetime.now()\n",
    "print(today,now)"
   ]
  },
  {
   "cell_type": "code",
   "execution_count": 6,
   "metadata": {},
   "outputs": [],
   "source": [
    "urls = ['http://api.openweathermap.org/data/2.5/weather?q=San%20Francisco,US&units=imperial&APPID=de2e3055b593558ad302dda095e9f374',\n",
    "'http://api.openweathermap.org/data/2.5/weather?q=San%20Jose,US&units=imperial&APPID=de2e3055b593558ad302dda095e9f374',\n",
    "'http://api.openweathermap.org/data/2.5/weather?q=New%20York,US&units=imperial&APPID=de2e3055b593558ad302dda095e9f374',\n",
    "'http://api.openweathermap.org/data/2.5/weather?q=Boston,US&units=imperial&APPID=de2e3055b593558ad302dda095e9f374',\n",
    "'http://api.openweathermap.org/data/2.5/weather?q=Los%20Angeles,US&units=imperial&APPID=de2e3055b593558ad302dda095e9f374',\n",
    "'http://api.openweathermap.org/data/2.5/weather?q=Las%20Vegas,US&units=imperial&APPID=de2e3055b593558ad302dda095e9f374',\n",
    "'http://api.openweathermap.org/data/2.5/weather?q=Minneapolis,US&units=imperial&APPID=de2e3055b593558ad302dda095e9f374',\n",
    "'http://api.openweathermap.org/data/2.5/weather?q=Detroit,US&units=imperial&APPID=de2e3055b593558ad302dda095e9f374',\n",
    "'http://api.openweathermap.org/data/2.5/weather?q=Chicago,US&units=imperial&APPID=de2e3055b593558ad302dda095e9f374',\n",
    "'http://api.openweathermap.org/data/2.5/weather?q=Seattle,US&units=imperial&APPID=de2e3055b593558ad302dda095e9f374',\n",
    "'http://api.openweathermap.org/data/2.5/weather?q=Phoenix,US&units=imperial&APPID=de2e3055b593558ad302dda095e9f374',\n",
    "'http://api.openweathermap.org/data/2.5/weather?q=Miami,US&units=imperial&APPID=de2e3055b593558ad302dda095e9f374',\n",
    "'http://api.openweathermap.org/data/2.5/weather?q=Portland,US&units=imperial&APPID=de2e3055b593558ad302dda095e9f374',\n",
    "'http://api.openweathermap.org/data/2.5/weather?q=Atlanta,US&units=imperial&APPID=de2e3055b593558ad302dda095e9f374',\n",
    "'http://api.openweathermap.org/data/2.5/weather?q=Honolulu,US&units=imperial&APPID=de2e3055b593558ad302dda095e9f374',\n",
    "'http://api.openweathermap.org/data/2.5/weather?q=Juneau,US&units=imperial&APPID=de2e3055b593558ad302dda095e9f374',\n",
    "'http://api.openweathermap.org/data/2.5/weather?q=Houston,US&units=imperial&APPID=de2e3055b593558ad302dda095e9f374',\n",
    "'http://api.openweathermap.org/data/2.5/weather?q=Helena,US&units=imperial&APPID=de2e3055b593558ad302dda095e9f374',\n",
    "'http://api.openweathermap.org/data/2.5/weather?q=Pittsburgh,US&units=imperial&APPID=de2e3055b593558ad302dda095e9f374',\n",
    "'http://api.openweathermap.org/data/2.5/weather?q=Denver,US&units=imperial&APPID=de2e3055b593558ad302dda095e9f374',\n",
    "'http://api.openweathermap.org/data/2.5/weather?q=Boulder,US&units=imperial&APPID=de2e3055b593558ad302dda095e9f374']\n",
    "\n",
    "cityWeather = []\n",
    "for row in urls:\n",
    "    response = requests.get(row)\n",
    "    responseDict = response.json()\n",
    "    responseJSON = json.dumps(responseDict)\n",
    "    data = json.loads(responseJSON)\n",
    "    cityWeather.append(data)"
   ]
  },
  {
   "cell_type": "code",
   "execution_count": 7,
   "metadata": {},
   "outputs": [
    {
     "data": {
      "text/plain": [
       "float"
      ]
     },
     "execution_count": 7,
     "metadata": {},
     "output_type": "execute_result"
    }
   ],
   "source": [
    "conn = pyodbc.connect('Driver={ODBC Driver 17 for SQL Server};'\n",
    "                      'Server=LAPTOP-RC2ANL8F\\SQLEXPRESS;'\n",
    "                      'Database=WeatherWars;'\n",
    "                      'Trusted_Connection=yes;')\n",
    "cursor = conn.cursor()\n",
    "#cityWeather[0]['main']['temp']\n",
    "#cityWeather[0]['rain']['1h']\n",
    "#cityWeather[0]['wind']['speed']\n",
    "#cityWeather[0]['name']\n",
    "#cursor.execute(\"select cName, geoId, cState from cities where cName = 'San Francisco'\")\n",
    "type(cityWeather[0]['main']['temp'])"
   ]
  },
  {
   "cell_type": "code",
   "execution_count": 8,
   "metadata": {},
   "outputs": [],
   "source": [
    "for row in cityWeather:\n",
    "    temp = row['main']['temp']\n",
    "    try:\n",
    "        row['rain']['1h']\n",
    "        rain = row['rain']['1h']\n",
    "    except:\n",
    "        rain = 0\n",
    "    wind = row['wind']['speed']\n",
    "    name = row['name']\n",
    "    today = date.today()\n",
    "    now = datetime.now()\n",
    "    cursor.execute(\"select tHigh, tLow, rainLevel, windSpeed from weather where cName = ? and currentDate = ?\",(name, today))\n",
    "    values = cursor.fetchone()\n",
    "    if values != None:\n",
    "        high = values[0]\n",
    "        low = values[1]\n",
    "        rainL = values[2]\n",
    "        windS = values[3]\n",
    "        \n",
    "        if temp > high:\n",
    "            cursor.execute(\"update weather set tHigh = ?, lastUpdated = ? where cName = ? and currentDate = ?\", (temp, now, name, today))\n",
    "        if temp < low:\n",
    "            cursor.execute(\"update weather set tLow = ?, lastUpdated = ? where cName = ? and currentDate = ?\", (temp, now, name, today))\n",
    "        if rain > rainL:\n",
    "            cursor.execute(\"update weather set rainLevel = ?, lastUpdated = ? where cName = ? and currentDate = ?\", (rain, now, name, today))\n",
    "        if wind > windS:\n",
    "            cursor.execute(\"update weather set windSpeed = ?, lastUpdated = ? where cName = ? and currentDate = ?\", (wind, now, name, today))\n",
    "    else:\n",
    "        cursor.execute(\"insert into weather values(?,?,?,?,?,?,?)\",(name, now, today, temp, temp, rain, wind))\n",
    "conn.commit()"
   ]
  },
  {
   "cell_type": "code",
   "execution_count": null,
   "metadata": {},
   "outputs": [],
   "source": []
  },
  {
   "cell_type": "code",
   "execution_count": 9,
   "metadata": {},
   "outputs": [
    {
     "data": {
      "text/plain": [
       "<pyodbc.Cursor at 0x229e363ba08>"
      ]
     },
     "execution_count": 9,
     "metadata": {},
     "output_type": "execute_result"
    }
   ],
   "source": [
    "cursor.execute(\"select * from weather\")\n"
   ]
  },
  {
   "cell_type": "code",
   "execution_count": 10,
   "metadata": {},
   "outputs": [
    {
     "name": "stdout",
     "output_type": "stream",
     "text": [
      "('Atlanta', datetime.datetime(2019, 11, 6, 16, 28, 29, 197000), datetime.date(2019, 11, 6), 56.17, 56.17, 0.0, 5.59)\n",
      "('Boston', datetime.datetime(2019, 11, 6, 16, 28, 29, 183000), datetime.date(2019, 11, 6), 38.25, 38.25, 0.0, 11.41)\n",
      "('Boulder', datetime.datetime(2019, 11, 6, 16, 28, 29, 200000), datetime.date(2019, 11, 6), 30.47, 30.47, 0.0, 5.82)\n",
      "('Chicago', datetime.datetime(2019, 11, 6, 16, 28, 29, 193000), datetime.date(2019, 11, 6), 37.69, 37.69, 0.0, 9.17)\n",
      "('Denver', datetime.datetime(2019, 11, 6, 16, 28, 29, 200000), datetime.date(2019, 11, 6), 30.36, 30.36, 0.0, 5.82)\n",
      "('Detroit', datetime.datetime(2019, 11, 6, 16, 28, 29, 190000), datetime.date(2019, 11, 6), 38.01, 38.01, 0.0, 3.36)\n",
      "('Helena', datetime.datetime(2019, 11, 6, 16, 28, 29, 197000), datetime.date(2019, 11, 6), 27.66, 27.66, 0.0, 3.36)\n",
      "('Honolulu', datetime.datetime(2019, 11, 6, 16, 28, 29, 197000), datetime.date(2019, 11, 6), 83.71, 83.71, 0.0, 14.99)\n",
      "('Houston', datetime.datetime(2019, 11, 6, 16, 28, 29, 197000), datetime.date(2019, 11, 6), 70.05, 70.05, 0.0, 7.07)\n",
      "('Juneau', datetime.datetime(2019, 11, 6, 16, 28, 29, 197000), datetime.date(2019, 11, 6), 37.04, 37.04, 0.51, 4.14)\n",
      "('Las Vegas', datetime.datetime(2019, 11, 6, 16, 28, 29, 187000), datetime.date(2019, 11, 6), 73.6, 73.6, 0.0, 4.7)\n",
      "('Los Angeles', datetime.datetime(2019, 11, 6, 16, 28, 29, 187000), datetime.date(2019, 11, 6), 67.84, 67.84, 0.0, 4.7)\n",
      "('Miami', datetime.datetime(2019, 11, 6, 16, 28, 29, 193000), datetime.date(2019, 11, 6), 81.19, 81.19, 0.0, 9.17)\n",
      "('Minneapolis', datetime.datetime(2019, 11, 6, 16, 28, 29, 190000), datetime.date(2019, 11, 6), 23.72, 23.72, 0.0, 10.29)\n",
      "('New York', datetime.datetime(2019, 11, 6, 16, 28, 29, 183000), datetime.date(2019, 11, 6), 44.44, 44.44, 1.27, 8.05)\n",
      "('Phoenix', datetime.datetime(2019, 11, 6, 16, 28, 29, 193000), datetime.date(2019, 11, 6), 80.64, 80.64, 0.0, 6.93)\n",
      "('Pittsburgh', datetime.datetime(2019, 11, 6, 16, 28, 29, 200000), datetime.date(2019, 11, 6), 43.03, 43.03, 0.0, 6.93)\n",
      "('Portland', datetime.datetime(2019, 11, 6, 16, 28, 29, 193000), datetime.date(2019, 11, 6), 74.52, 74.52, 0.0, 8.05)\n",
      "('San Francisco', datetime.datetime(2019, 11, 6, 16, 28, 29, 173000), datetime.date(2019, 11, 6), 62.89, 62.89, 0.0, 9.17)\n",
      "('San Jose', datetime.datetime(2019, 11, 6, 16, 28, 29, 177000), datetime.date(2019, 11, 6), 78.49, 78.49, 0.0, 10.29)\n",
      "('Seattle', datetime.datetime(2019, 11, 6, 16, 28, 29, 193000), datetime.date(2019, 11, 6), 50.13, 50.13, 0.0, 4.7)\n"
     ]
    }
   ],
   "source": [
    "for row in cursor:\n",
    "    print(row)"
   ]
  },
  {
   "cell_type": "code",
   "execution_count": 49,
   "metadata": {},
   "outputs": [
    {
     "name": "stdout",
     "output_type": "stream",
     "text": [
      "('Atlanta', 'Land-Locked', 'GA')\n"
     ]
    }
   ],
   "source": [
    "print(values)\n"
   ]
  },
  {
   "cell_type": "code",
   "execution_count": 50,
   "metadata": {},
   "outputs": [
    {
     "data": {
      "text/plain": [
       "'Atlanta'"
      ]
     },
     "execution_count": 50,
     "metadata": {},
     "output_type": "execute_result"
    }
   ],
   "source": [
    "values[0]"
   ]
  },
  {
   "cell_type": "code",
   "execution_count": null,
   "metadata": {},
   "outputs": [],
   "source": []
  }
 ],
 "metadata": {
  "kernelspec": {
   "display_name": "Python 3",
   "language": "python",
   "name": "python3"
  },
  "language_info": {
   "codemirror_mode": {
    "name": "ipython",
    "version": 3
   },
   "file_extension": ".py",
   "mimetype": "text/x-python",
   "name": "python",
   "nbconvert_exporter": "python",
   "pygments_lexer": "ipython3",
   "version": "3.7.3"
  }
 },
 "nbformat": 4,
 "nbformat_minor": 2
}
